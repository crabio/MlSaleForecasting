{
 "cells": [
  {
   "cell_type": "code",
   "execution_count": 1,
   "metadata": {
    "scrolled": true
   },
   "outputs": [
    {
     "name": "stdout",
     "output_type": "stream",
     "text": [
      "Requirement already satisfied: matplotlib in c:\\python36\\lib\\site-packages\n",
      "Requirement already satisfied: pandas in c:\\python36\\lib\\site-packages\n",
      "Requirement already satisfied: xlrd in c:\\python36\\lib\\site-packages\n",
      "Requirement already satisfied: seaborn in c:\\python36\\lib\\site-packages\n",
      "Requirement already satisfied: tqdm in c:\\python36\\lib\\site-packages\n",
      "Requirement already satisfied: scikit-learn in c:\\python36\\lib\\site-packages\n",
      "Requirement already satisfied: tensorflow in c:\\python36\\lib\\site-packages\n",
      "Requirement already satisfied: keras in c:\\python36\\lib\\site-packages\n",
      "Requirement already satisfied: protobuf in c:\\python36\\lib\\site-packages\n",
      "Requirement already satisfied: pyparsing!=2.0.4,!=2.1.2,!=2.1.6,>=2.0.1 in c:\\python36\\lib\\site-packages (from matplotlib)\n",
      "Requirement already satisfied: cycler>=0.10 in c:\\python36\\lib\\site-packages (from matplotlib)\n",
      "Requirement already satisfied: kiwisolver>=1.0.1 in c:\\python36\\lib\\site-packages (from matplotlib)\n",
      "Requirement already satisfied: python-dateutil>=2.1 in c:\\python36\\lib\\site-packages (from matplotlib)\n",
      "Requirement already satisfied: numpy>=1.10.0 in c:\\python36\\lib\\site-packages (from matplotlib)\n",
      "Requirement already satisfied: pytz>=2011k in c:\\python36\\lib\\site-packages (from pandas)\n",
      "Requirement already satisfied: scipy>=0.14.0 in c:\\python36\\lib\\site-packages (from seaborn)\n",
      "Requirement already satisfied: tensorboard<1.14.0,>=1.13.0 in c:\\python36\\lib\\site-packages (from tensorflow)\n",
      "Requirement already satisfied: six>=1.10.0 in c:\\python36\\lib\\site-packages (from tensorflow)\n",
      "Requirement already satisfied: keras-applications>=1.0.6 in c:\\python36\\lib\\site-packages (from tensorflow)\n",
      "Requirement already satisfied: absl-py>=0.1.6 in c:\\python36\\lib\\site-packages (from tensorflow)\n",
      "Requirement already satisfied: grpcio>=1.8.6 in c:\\python36\\lib\\site-packages (from tensorflow)\n",
      "Requirement already satisfied: wheel>=0.26 in c:\\python36\\lib\\site-packages (from tensorflow)\n",
      "Requirement already satisfied: gast>=0.2.0 in c:\\python36\\lib\\site-packages (from tensorflow)\n",
      "Requirement already satisfied: termcolor>=1.1.0 in c:\\python36\\lib\\site-packages (from tensorflow)\n",
      "Requirement already satisfied: keras-preprocessing>=1.0.5 in c:\\python36\\lib\\site-packages (from tensorflow)\n",
      "Requirement already satisfied: astor>=0.6.0 in c:\\python36\\lib\\site-packages (from tensorflow)\n",
      "Requirement already satisfied: tensorflow-estimator<1.14.0rc0,>=1.13.0 in c:\\python36\\lib\\site-packages (from tensorflow)\n",
      "Requirement already satisfied: pyyaml in c:\\python36\\lib\\site-packages (from keras)\n",
      "Requirement already satisfied: setuptools in c:\\python36\\lib\\site-packages (from protobuf)\n",
      "Requirement already satisfied: werkzeug>=0.11.15 in c:\\python36\\lib\\site-packages (from tensorboard<1.14.0,>=1.13.0->tensorflow)\n",
      "Requirement already satisfied: markdown>=2.6.8 in c:\\python36\\lib\\site-packages (from tensorboard<1.14.0,>=1.13.0->tensorflow)\n",
      "Requirement already satisfied: h5py in c:\\python36\\lib\\site-packages (from keras-applications>=1.0.6->tensorflow)\n",
      "Requirement already satisfied: mock>=2.0.0 in c:\\python36\\lib\\site-packages (from tensorflow-estimator<1.14.0rc0,>=1.13.0->tensorflow)\n",
      "Requirement already satisfied: pbr>=0.11 in c:\\python36\\lib\\site-packages (from mock>=2.0.0->tensorflow-estimator<1.14.0rc0,>=1.13.0->tensorflow)\n"
     ]
    }
   ],
   "source": [
    "import sys\n",
    "!{sys.executable} -m pip install matplotlib pandas xlrd seaborn tqdm scikit-learn tensorflow keras protobuf"
   ]
  },
  {
   "cell_type": "code",
   "execution_count": 37,
   "metadata": {},
   "outputs": [],
   "source": [
    "import matplotlib.pyplot as plt\n",
    "import pandas as pd\n",
    "import seaborn as sns\n",
    "import tqdm\n",
    "import numpy as np\n",
    "\n",
    "from sklearn.cluster import KMeans\n",
    "from sklearn.model_selection import train_test_split\n",
    "from sklearn.preprocessing import MinMaxScaler\n",
    "\n",
    "from tensorflow.python.keras.models import Sequential\n",
    "from tensorflow.python.keras.layers import Dense, BatchNormalization, LeakyReLU, Activation\n",
    "from tensorflow.python.keras.wrappers.scikit_learn import KerasRegressor"
   ]
  },
  {
   "cell_type": "markdown",
   "metadata": {},
   "source": [
    "Чтение данных из Excel"
   ]
  },
  {
   "cell_type": "code",
   "execution_count": 2,
   "metadata": {},
   "outputs": [],
   "source": [
    "sales = pd.read_excel('ДанныеДекабря_2017.xlsx', 'Продажи')\n",
    "sales = sales.set_index('Material')\n",
    "\n",
    "ap = pd.read_excel('ДанныеДекабря_2017.xlsx', 'Магазины')\n",
    "ap = ap.set_index('Material')\n",
    "\n",
    "stock = pd.read_excel('ДанныеДекабря_2017.xlsx', 'Остатки')\n",
    "stock = stock.set_index('Material')\n",
    "\n",
    "price = pd.read_excel('ДанныеДекабря_2017.xlsx', 'Цены')\n",
    "price = price.set_index('Material')\n",
    "\n",
    "hierarchy = pd.read_excel('hierarchy.xlsx')\n",
    "\n",
    "sell = pd.read_excel('Акции.xlsx')"
   ]
  },
  {
   "cell_type": "markdown",
   "metadata": {},
   "source": [
    "Создание DataFrame для анализа зависимостей между переменными по артикулам"
   ]
  },
  {
   "cell_type": "code",
   "execution_count": 3,
   "metadata": {},
   "outputs": [],
   "source": [
    "full_train_data = pd.DataFrame()\n",
    "\n",
    "for x in tqdm.tqdm(sales.index[:]):\n",
    "    material = x\n",
    "\n",
    "    df = pd.concat([sales.loc[material].rename('sales'),\\\n",
    "               sales.loc[material].shift(-1).rename('sales_1'),\\\n",
    "               sales.loc[material].shift(-2).rename('sales_2'),\\\n",
    "               sales.loc[material].shift(-12).rename('sales_12'),\\\n",
    "               sales.loc[material].subtract(sales.loc[material].shift(-1)).rename('sales_diff_1'),\\\n",
    "               sales.loc[material].subtract(sales.loc[material].shift(-2)).rename('sales_diff_2'),\\\n",
    "               sales.loc[material].subtract(sales.loc[material].shift(-12)).rename('sales_diff_12'),\\\n",
    "               stock.loc[material].shift(-1).rename('stock_1'),\\\n",
    "               stock.loc[material].shift(-2).rename('stock_2'),\\\n",
    "               stock.loc[material].subtract(stock.loc[material].shift(-1)).rename('stock_diff_1'),\\\n",
    "               stock.loc[material].subtract(stock.loc[material].shift(-2)).rename('stock_diff_2'),\\\n",
    "               price.loc[material].shift(-1).rename('price_1'),\\\n",
    "               price.loc[material].shift(-1).rename('price_2'),\\\n",
    "               price.loc[material].subtract(price.loc[material].shift(-1)).rename('price_diff_1'),\\\n",
    "               price.loc[material].subtract(price.loc[material].shift(-1)).rename('price_diff_2'),\\\n",
    "               ap.loc[material].shift(-1).rename('ap_1'),\\\n",
    "               ap.loc[material].shift(-1).rename('ap_2'),\\\n",
    "               ap.loc[material].subtract(ap.loc[material].shift(-1)).rename('ap_diff_1'),\\\n",
    "               ap.loc[material].subtract(ap.loc[material].shift(-1)).rename('ap_diff_2')],\\\n",
    "              axis=1)\n",
    "\n",
    "    df = df.dropna()\n",
    "\n",
    "    df.loc[:,'material'] = material\n",
    "    \n",
    "    full_train_data = full_train_data.append(df)\n",
    "    \n",
    "full_train_data.loc[:,'month'] = full_train_data.index.month"
   ]
  },
  {
   "cell_type": "code",
   "execution_count": 5,
   "metadata": {},
   "outputs": [],
   "source": [
    "del sales\n",
    "del ap\n",
    "del stock\n",
    "del price\n",
    "del hierarchy\n",
    "del sell"
   ]
  },
  {
   "cell_type": "markdown",
   "metadata": {},
   "source": [
    "Сохраняем собранные данные в файл для ускорения в будущем"
   ]
  },
  {
   "cell_type": "code",
   "execution_count": 4,
   "metadata": {},
   "outputs": [],
   "source": [
    "full_train_data.to_excel('full_train_data.xlsx')"
   ]
  },
  {
   "cell_type": "markdown",
   "metadata": {},
   "source": [
    "Выгружаем данные для обучения из файла"
   ]
  },
  {
   "cell_type": "code",
   "execution_count": 3,
   "metadata": {},
   "outputs": [],
   "source": [
    "full_train_data = pd.read_excel('full_train_data.xlsx')"
   ]
  },
  {
   "cell_type": "markdown",
   "metadata": {},
   "source": [
    "Создаем DF корелляции"
   ]
  },
  {
   "cell_type": "code",
   "execution_count": 5,
   "metadata": {},
   "outputs": [],
   "source": [
    "df_columns_filter = ['sales','sales_1','sales_2','sales_12',\n",
    "                     'sales_diff_1','sales_diff_2','sales_diff_12',\n",
    "                     'stock_1','stock_2',\n",
    "                     'stock_diff_1','stock_diff_2',\n",
    "                     'price_1','price_2',\n",
    "                     'ap_1','ap_2',\n",
    "                     'month','material']"
   ]
  },
  {
   "cell_type": "code",
   "execution_count": 6,
   "metadata": {},
   "outputs": [],
   "source": [
    "corr_df = full_train_data[df_columns_filter].groupby('material').corr().abs().sales.fillna(0).unstack(level=0).T"
   ]
  },
  {
   "cell_type": "markdown",
   "metadata": {},
   "source": [
    "Выделение групп артикулов для ращного прогнозирования на основе коррелляции"
   ]
  },
  {
   "cell_type": "code",
   "execution_count": 7,
   "metadata": {},
   "outputs": [],
   "source": [
    "#Cluster the data\n",
    "kmeans = KMeans(n_clusters=5, random_state=0).fit(corr_df)\n",
    "labels = kmeans.labels_\n",
    "\n",
    "#Glue back to originaal data\n",
    "corr_df['clusters'] = labels\n",
    "\n",
    "# Создание нормализованной DF\n",
    "corr_overal_df = corr_df.groupby('clusters').mean()\n",
    "\n",
    "corr_overal_norm_df = (corr_overal_df-corr_overal_df.min())/(corr_overal_df.max()-corr_overal_df.min())"
   ]
  },
  {
   "cell_type": "markdown",
   "metadata": {},
   "source": [
    "Вычисление колонок у кластера для использования для прогнозирования"
   ]
  },
  {
   "cell_type": "code",
   "execution_count": 10,
   "metadata": {
    "scrolled": true
   },
   "outputs": [
    {
     "data": {
      "text/html": [
       "<style  type=\"text/css\" >\n",
       "    #T_354a3aee_4fbb_11e9_87d5_002590da1fa0row0_col0 {\n",
       "            background-color:  #440154;\n",
       "        }    #T_354a3aee_4fbb_11e9_87d5_002590da1fa0row0_col1 {\n",
       "            background-color:  #440154;\n",
       "        }    #T_354a3aee_4fbb_11e9_87d5_002590da1fa0row0_col2 {\n",
       "            background-color:  #440154;\n",
       "        }    #T_354a3aee_4fbb_11e9_87d5_002590da1fa0row0_col3 {\n",
       "            background-color:  #440154;\n",
       "        }    #T_354a3aee_4fbb_11e9_87d5_002590da1fa0row0_col4 {\n",
       "            background-color:  #440154;\n",
       "        }    #T_354a3aee_4fbb_11e9_87d5_002590da1fa0row0_col5 {\n",
       "            background-color:  #fde725;\n",
       "        }    #T_354a3aee_4fbb_11e9_87d5_002590da1fa0row0_col6 {\n",
       "            background-color:  #440154;\n",
       "        }    #T_354a3aee_4fbb_11e9_87d5_002590da1fa0row0_col7 {\n",
       "            background-color:  #440154;\n",
       "        }    #T_354a3aee_4fbb_11e9_87d5_002590da1fa0row0_col8 {\n",
       "            background-color:  #440154;\n",
       "        }    #T_354a3aee_4fbb_11e9_87d5_002590da1fa0row0_col9 {\n",
       "            background-color:  #fde725;\n",
       "        }    #T_354a3aee_4fbb_11e9_87d5_002590da1fa0row0_col10 {\n",
       "            background-color:  #fde725;\n",
       "        }    #T_354a3aee_4fbb_11e9_87d5_002590da1fa0row0_col11 {\n",
       "            background-color:  #fde725;\n",
       "        }    #T_354a3aee_4fbb_11e9_87d5_002590da1fa0row0_col12 {\n",
       "            background-color:  #440154;\n",
       "        }    #T_354a3aee_4fbb_11e9_87d5_002590da1fa0row0_col13 {\n",
       "            background-color:  #440154;\n",
       "        }    #T_354a3aee_4fbb_11e9_87d5_002590da1fa0row0_col14 {\n",
       "            background-color:  #440154;\n",
       "        }    #T_354a3aee_4fbb_11e9_87d5_002590da1fa0row0_col15 {\n",
       "            background-color:  #fde725;\n",
       "        }    #T_354a3aee_4fbb_11e9_87d5_002590da1fa0row1_col0 {\n",
       "            background-color:  #fde725;\n",
       "        }    #T_354a3aee_4fbb_11e9_87d5_002590da1fa0row1_col1 {\n",
       "            background-color:  #fde725;\n",
       "        }    #T_354a3aee_4fbb_11e9_87d5_002590da1fa0row1_col2 {\n",
       "            background-color:  #440154;\n",
       "        }    #T_354a3aee_4fbb_11e9_87d5_002590da1fa0row1_col3 {\n",
       "            background-color:  #fde725;\n",
       "        }    #T_354a3aee_4fbb_11e9_87d5_002590da1fa0row1_col4 {\n",
       "            background-color:  #fde725;\n",
       "        }    #T_354a3aee_4fbb_11e9_87d5_002590da1fa0row1_col5 {\n",
       "            background-color:  #fde725;\n",
       "        }    #T_354a3aee_4fbb_11e9_87d5_002590da1fa0row1_col6 {\n",
       "            background-color:  #fde725;\n",
       "        }    #T_354a3aee_4fbb_11e9_87d5_002590da1fa0row1_col7 {\n",
       "            background-color:  #fde725;\n",
       "        }    #T_354a3aee_4fbb_11e9_87d5_002590da1fa0row1_col8 {\n",
       "            background-color:  #fde725;\n",
       "        }    #T_354a3aee_4fbb_11e9_87d5_002590da1fa0row1_col9 {\n",
       "            background-color:  #440154;\n",
       "        }    #T_354a3aee_4fbb_11e9_87d5_002590da1fa0row1_col10 {\n",
       "            background-color:  #440154;\n",
       "        }    #T_354a3aee_4fbb_11e9_87d5_002590da1fa0row1_col11 {\n",
       "            background-color:  #440154;\n",
       "        }    #T_354a3aee_4fbb_11e9_87d5_002590da1fa0row1_col12 {\n",
       "            background-color:  #fde725;\n",
       "        }    #T_354a3aee_4fbb_11e9_87d5_002590da1fa0row1_col13 {\n",
       "            background-color:  #fde725;\n",
       "        }    #T_354a3aee_4fbb_11e9_87d5_002590da1fa0row1_col14 {\n",
       "            background-color:  #440154;\n",
       "        }    #T_354a3aee_4fbb_11e9_87d5_002590da1fa0row1_col15 {\n",
       "            background-color:  #440154;\n",
       "        }    #T_354a3aee_4fbb_11e9_87d5_002590da1fa0row2_col0 {\n",
       "            background-color:  #440154;\n",
       "        }    #T_354a3aee_4fbb_11e9_87d5_002590da1fa0row2_col1 {\n",
       "            background-color:  #440154;\n",
       "        }    #T_354a3aee_4fbb_11e9_87d5_002590da1fa0row2_col2 {\n",
       "            background-color:  #440154;\n",
       "        }    #T_354a3aee_4fbb_11e9_87d5_002590da1fa0row2_col3 {\n",
       "            background-color:  #440154;\n",
       "        }    #T_354a3aee_4fbb_11e9_87d5_002590da1fa0row2_col4 {\n",
       "            background-color:  #440154;\n",
       "        }    #T_354a3aee_4fbb_11e9_87d5_002590da1fa0row2_col5 {\n",
       "            background-color:  #440154;\n",
       "        }    #T_354a3aee_4fbb_11e9_87d5_002590da1fa0row2_col6 {\n",
       "            background-color:  #440154;\n",
       "        }    #T_354a3aee_4fbb_11e9_87d5_002590da1fa0row2_col7 {\n",
       "            background-color:  #440154;\n",
       "        }    #T_354a3aee_4fbb_11e9_87d5_002590da1fa0row2_col8 {\n",
       "            background-color:  #440154;\n",
       "        }    #T_354a3aee_4fbb_11e9_87d5_002590da1fa0row2_col9 {\n",
       "            background-color:  #440154;\n",
       "        }    #T_354a3aee_4fbb_11e9_87d5_002590da1fa0row2_col10 {\n",
       "            background-color:  #440154;\n",
       "        }    #T_354a3aee_4fbb_11e9_87d5_002590da1fa0row2_col11 {\n",
       "            background-color:  #440154;\n",
       "        }    #T_354a3aee_4fbb_11e9_87d5_002590da1fa0row2_col12 {\n",
       "            background-color:  #440154;\n",
       "        }    #T_354a3aee_4fbb_11e9_87d5_002590da1fa0row2_col13 {\n",
       "            background-color:  #440154;\n",
       "        }    #T_354a3aee_4fbb_11e9_87d5_002590da1fa0row2_col14 {\n",
       "            background-color:  #440154;\n",
       "        }    #T_354a3aee_4fbb_11e9_87d5_002590da1fa0row2_col15 {\n",
       "            background-color:  #440154;\n",
       "        }    #T_354a3aee_4fbb_11e9_87d5_002590da1fa0row3_col0 {\n",
       "            background-color:  #440154;\n",
       "        }    #T_354a3aee_4fbb_11e9_87d5_002590da1fa0row3_col1 {\n",
       "            background-color:  #440154;\n",
       "        }    #T_354a3aee_4fbb_11e9_87d5_002590da1fa0row3_col2 {\n",
       "            background-color:  #440154;\n",
       "        }    #T_354a3aee_4fbb_11e9_87d5_002590da1fa0row3_col3 {\n",
       "            background-color:  #440154;\n",
       "        }    #T_354a3aee_4fbb_11e9_87d5_002590da1fa0row3_col4 {\n",
       "            background-color:  #440154;\n",
       "        }    #T_354a3aee_4fbb_11e9_87d5_002590da1fa0row3_col5 {\n",
       "            background-color:  #fde725;\n",
       "        }    #T_354a3aee_4fbb_11e9_87d5_002590da1fa0row3_col6 {\n",
       "            background-color:  #440154;\n",
       "        }    #T_354a3aee_4fbb_11e9_87d5_002590da1fa0row3_col7 {\n",
       "            background-color:  #440154;\n",
       "        }    #T_354a3aee_4fbb_11e9_87d5_002590da1fa0row3_col8 {\n",
       "            background-color:  #440154;\n",
       "        }    #T_354a3aee_4fbb_11e9_87d5_002590da1fa0row3_col9 {\n",
       "            background-color:  #440154;\n",
       "        }    #T_354a3aee_4fbb_11e9_87d5_002590da1fa0row3_col10 {\n",
       "            background-color:  #fde725;\n",
       "        }    #T_354a3aee_4fbb_11e9_87d5_002590da1fa0row3_col11 {\n",
       "            background-color:  #fde725;\n",
       "        }    #T_354a3aee_4fbb_11e9_87d5_002590da1fa0row3_col12 {\n",
       "            background-color:  #440154;\n",
       "        }    #T_354a3aee_4fbb_11e9_87d5_002590da1fa0row3_col13 {\n",
       "            background-color:  #440154;\n",
       "        }    #T_354a3aee_4fbb_11e9_87d5_002590da1fa0row3_col14 {\n",
       "            background-color:  #440154;\n",
       "        }    #T_354a3aee_4fbb_11e9_87d5_002590da1fa0row3_col15 {\n",
       "            background-color:  #440154;\n",
       "        }    #T_354a3aee_4fbb_11e9_87d5_002590da1fa0row4_col0 {\n",
       "            background-color:  #fde725;\n",
       "        }    #T_354a3aee_4fbb_11e9_87d5_002590da1fa0row4_col1 {\n",
       "            background-color:  #fde725;\n",
       "        }    #T_354a3aee_4fbb_11e9_87d5_002590da1fa0row4_col2 {\n",
       "            background-color:  #fde725;\n",
       "        }    #T_354a3aee_4fbb_11e9_87d5_002590da1fa0row4_col3 {\n",
       "            background-color:  #fde725;\n",
       "        }    #T_354a3aee_4fbb_11e9_87d5_002590da1fa0row4_col4 {\n",
       "            background-color:  #fde725;\n",
       "        }    #T_354a3aee_4fbb_11e9_87d5_002590da1fa0row4_col5 {\n",
       "            background-color:  #fde725;\n",
       "        }    #T_354a3aee_4fbb_11e9_87d5_002590da1fa0row4_col6 {\n",
       "            background-color:  #fde725;\n",
       "        }    #T_354a3aee_4fbb_11e9_87d5_002590da1fa0row4_col7 {\n",
       "            background-color:  #fde725;\n",
       "        }    #T_354a3aee_4fbb_11e9_87d5_002590da1fa0row4_col8 {\n",
       "            background-color:  #fde725;\n",
       "        }    #T_354a3aee_4fbb_11e9_87d5_002590da1fa0row4_col9 {\n",
       "            background-color:  #fde725;\n",
       "        }    #T_354a3aee_4fbb_11e9_87d5_002590da1fa0row4_col10 {\n",
       "            background-color:  #440154;\n",
       "        }    #T_354a3aee_4fbb_11e9_87d5_002590da1fa0row4_col11 {\n",
       "            background-color:  #440154;\n",
       "        }    #T_354a3aee_4fbb_11e9_87d5_002590da1fa0row4_col12 {\n",
       "            background-color:  #fde725;\n",
       "        }    #T_354a3aee_4fbb_11e9_87d5_002590da1fa0row4_col13 {\n",
       "            background-color:  #fde725;\n",
       "        }    #T_354a3aee_4fbb_11e9_87d5_002590da1fa0row4_col14 {\n",
       "            background-color:  #fde725;\n",
       "        }    #T_354a3aee_4fbb_11e9_87d5_002590da1fa0row4_col15 {\n",
       "            background-color:  #fde725;\n",
       "        }</style>  \n",
       "<table id=\"T_354a3aee_4fbb_11e9_87d5_002590da1fa0\" > \n",
       "<thead>    <tr> \n",
       "        <th class=\"blank level0\" ></th> \n",
       "        <th class=\"col_heading level0 col0\" >ap_1</th> \n",
       "        <th class=\"col_heading level0 col1\" >ap_2</th> \n",
       "        <th class=\"col_heading level0 col2\" >month</th> \n",
       "        <th class=\"col_heading level0 col3\" >price_1</th> \n",
       "        <th class=\"col_heading level0 col4\" >price_2</th> \n",
       "        <th class=\"col_heading level0 col5\" >sales</th> \n",
       "        <th class=\"col_heading level0 col6\" >sales_1</th> \n",
       "        <th class=\"col_heading level0 col7\" >sales_12</th> \n",
       "        <th class=\"col_heading level0 col8\" >sales_2</th> \n",
       "        <th class=\"col_heading level0 col9\" >sales_diff_1</th> \n",
       "        <th class=\"col_heading level0 col10\" >sales_diff_12</th> \n",
       "        <th class=\"col_heading level0 col11\" >sales_diff_2</th> \n",
       "        <th class=\"col_heading level0 col12\" >stock_1</th> \n",
       "        <th class=\"col_heading level0 col13\" >stock_2</th> \n",
       "        <th class=\"col_heading level0 col14\" >stock_diff_1</th> \n",
       "        <th class=\"col_heading level0 col15\" >stock_diff_2</th> \n",
       "    </tr>    <tr> \n",
       "        <th class=\"index_name level0\" >clusters</th> \n",
       "        <th class=\"blank\" ></th> \n",
       "        <th class=\"blank\" ></th> \n",
       "        <th class=\"blank\" ></th> \n",
       "        <th class=\"blank\" ></th> \n",
       "        <th class=\"blank\" ></th> \n",
       "        <th class=\"blank\" ></th> \n",
       "        <th class=\"blank\" ></th> \n",
       "        <th class=\"blank\" ></th> \n",
       "        <th class=\"blank\" ></th> \n",
       "        <th class=\"blank\" ></th> \n",
       "        <th class=\"blank\" ></th> \n",
       "        <th class=\"blank\" ></th> \n",
       "        <th class=\"blank\" ></th> \n",
       "        <th class=\"blank\" ></th> \n",
       "        <th class=\"blank\" ></th> \n",
       "        <th class=\"blank\" ></th> \n",
       "    </tr></thead> \n",
       "<tbody>    <tr> \n",
       "        <th id=\"T_354a3aee_4fbb_11e9_87d5_002590da1fa0level0_row0\" class=\"row_heading level0 row0\" >0</th> \n",
       "        <td id=\"T_354a3aee_4fbb_11e9_87d5_002590da1fa0row0_col0\" class=\"data row0 col0\" >0</td> \n",
       "        <td id=\"T_354a3aee_4fbb_11e9_87d5_002590da1fa0row0_col1\" class=\"data row0 col1\" >0</td> \n",
       "        <td id=\"T_354a3aee_4fbb_11e9_87d5_002590da1fa0row0_col2\" class=\"data row0 col2\" >0</td> \n",
       "        <td id=\"T_354a3aee_4fbb_11e9_87d5_002590da1fa0row0_col3\" class=\"data row0 col3\" >0</td> \n",
       "        <td id=\"T_354a3aee_4fbb_11e9_87d5_002590da1fa0row0_col4\" class=\"data row0 col4\" >0</td> \n",
       "        <td id=\"T_354a3aee_4fbb_11e9_87d5_002590da1fa0row0_col5\" class=\"data row0 col5\" >1</td> \n",
       "        <td id=\"T_354a3aee_4fbb_11e9_87d5_002590da1fa0row0_col6\" class=\"data row0 col6\" >0</td> \n",
       "        <td id=\"T_354a3aee_4fbb_11e9_87d5_002590da1fa0row0_col7\" class=\"data row0 col7\" >0</td> \n",
       "        <td id=\"T_354a3aee_4fbb_11e9_87d5_002590da1fa0row0_col8\" class=\"data row0 col8\" >0</td> \n",
       "        <td id=\"T_354a3aee_4fbb_11e9_87d5_002590da1fa0row0_col9\" class=\"data row0 col9\" >1</td> \n",
       "        <td id=\"T_354a3aee_4fbb_11e9_87d5_002590da1fa0row0_col10\" class=\"data row0 col10\" >1</td> \n",
       "        <td id=\"T_354a3aee_4fbb_11e9_87d5_002590da1fa0row0_col11\" class=\"data row0 col11\" >1</td> \n",
       "        <td id=\"T_354a3aee_4fbb_11e9_87d5_002590da1fa0row0_col12\" class=\"data row0 col12\" >0</td> \n",
       "        <td id=\"T_354a3aee_4fbb_11e9_87d5_002590da1fa0row0_col13\" class=\"data row0 col13\" >0</td> \n",
       "        <td id=\"T_354a3aee_4fbb_11e9_87d5_002590da1fa0row0_col14\" class=\"data row0 col14\" >0</td> \n",
       "        <td id=\"T_354a3aee_4fbb_11e9_87d5_002590da1fa0row0_col15\" class=\"data row0 col15\" >1</td> \n",
       "    </tr>    <tr> \n",
       "        <th id=\"T_354a3aee_4fbb_11e9_87d5_002590da1fa0level0_row1\" class=\"row_heading level0 row1\" >1</th> \n",
       "        <td id=\"T_354a3aee_4fbb_11e9_87d5_002590da1fa0row1_col0\" class=\"data row1 col0\" >1</td> \n",
       "        <td id=\"T_354a3aee_4fbb_11e9_87d5_002590da1fa0row1_col1\" class=\"data row1 col1\" >1</td> \n",
       "        <td id=\"T_354a3aee_4fbb_11e9_87d5_002590da1fa0row1_col2\" class=\"data row1 col2\" >0</td> \n",
       "        <td id=\"T_354a3aee_4fbb_11e9_87d5_002590da1fa0row1_col3\" class=\"data row1 col3\" >1</td> \n",
       "        <td id=\"T_354a3aee_4fbb_11e9_87d5_002590da1fa0row1_col4\" class=\"data row1 col4\" >1</td> \n",
       "        <td id=\"T_354a3aee_4fbb_11e9_87d5_002590da1fa0row1_col5\" class=\"data row1 col5\" >1</td> \n",
       "        <td id=\"T_354a3aee_4fbb_11e9_87d5_002590da1fa0row1_col6\" class=\"data row1 col6\" >1</td> \n",
       "        <td id=\"T_354a3aee_4fbb_11e9_87d5_002590da1fa0row1_col7\" class=\"data row1 col7\" >1</td> \n",
       "        <td id=\"T_354a3aee_4fbb_11e9_87d5_002590da1fa0row1_col8\" class=\"data row1 col8\" >1</td> \n",
       "        <td id=\"T_354a3aee_4fbb_11e9_87d5_002590da1fa0row1_col9\" class=\"data row1 col9\" >0</td> \n",
       "        <td id=\"T_354a3aee_4fbb_11e9_87d5_002590da1fa0row1_col10\" class=\"data row1 col10\" >0</td> \n",
       "        <td id=\"T_354a3aee_4fbb_11e9_87d5_002590da1fa0row1_col11\" class=\"data row1 col11\" >0</td> \n",
       "        <td id=\"T_354a3aee_4fbb_11e9_87d5_002590da1fa0row1_col12\" class=\"data row1 col12\" >1</td> \n",
       "        <td id=\"T_354a3aee_4fbb_11e9_87d5_002590da1fa0row1_col13\" class=\"data row1 col13\" >1</td> \n",
       "        <td id=\"T_354a3aee_4fbb_11e9_87d5_002590da1fa0row1_col14\" class=\"data row1 col14\" >0</td> \n",
       "        <td id=\"T_354a3aee_4fbb_11e9_87d5_002590da1fa0row1_col15\" class=\"data row1 col15\" >0</td> \n",
       "    </tr>    <tr> \n",
       "        <th id=\"T_354a3aee_4fbb_11e9_87d5_002590da1fa0level0_row2\" class=\"row_heading level0 row2\" >2</th> \n",
       "        <td id=\"T_354a3aee_4fbb_11e9_87d5_002590da1fa0row2_col0\" class=\"data row2 col0\" >0</td> \n",
       "        <td id=\"T_354a3aee_4fbb_11e9_87d5_002590da1fa0row2_col1\" class=\"data row2 col1\" >0</td> \n",
       "        <td id=\"T_354a3aee_4fbb_11e9_87d5_002590da1fa0row2_col2\" class=\"data row2 col2\" >0</td> \n",
       "        <td id=\"T_354a3aee_4fbb_11e9_87d5_002590da1fa0row2_col3\" class=\"data row2 col3\" >0</td> \n",
       "        <td id=\"T_354a3aee_4fbb_11e9_87d5_002590da1fa0row2_col4\" class=\"data row2 col4\" >0</td> \n",
       "        <td id=\"T_354a3aee_4fbb_11e9_87d5_002590da1fa0row2_col5\" class=\"data row2 col5\" >0</td> \n",
       "        <td id=\"T_354a3aee_4fbb_11e9_87d5_002590da1fa0row2_col6\" class=\"data row2 col6\" >0</td> \n",
       "        <td id=\"T_354a3aee_4fbb_11e9_87d5_002590da1fa0row2_col7\" class=\"data row2 col7\" >0</td> \n",
       "        <td id=\"T_354a3aee_4fbb_11e9_87d5_002590da1fa0row2_col8\" class=\"data row2 col8\" >0</td> \n",
       "        <td id=\"T_354a3aee_4fbb_11e9_87d5_002590da1fa0row2_col9\" class=\"data row2 col9\" >0</td> \n",
       "        <td id=\"T_354a3aee_4fbb_11e9_87d5_002590da1fa0row2_col10\" class=\"data row2 col10\" >0</td> \n",
       "        <td id=\"T_354a3aee_4fbb_11e9_87d5_002590da1fa0row2_col11\" class=\"data row2 col11\" >0</td> \n",
       "        <td id=\"T_354a3aee_4fbb_11e9_87d5_002590da1fa0row2_col12\" class=\"data row2 col12\" >0</td> \n",
       "        <td id=\"T_354a3aee_4fbb_11e9_87d5_002590da1fa0row2_col13\" class=\"data row2 col13\" >0</td> \n",
       "        <td id=\"T_354a3aee_4fbb_11e9_87d5_002590da1fa0row2_col14\" class=\"data row2 col14\" >0</td> \n",
       "        <td id=\"T_354a3aee_4fbb_11e9_87d5_002590da1fa0row2_col15\" class=\"data row2 col15\" >0</td> \n",
       "    </tr>    <tr> \n",
       "        <th id=\"T_354a3aee_4fbb_11e9_87d5_002590da1fa0level0_row3\" class=\"row_heading level0 row3\" >3</th> \n",
       "        <td id=\"T_354a3aee_4fbb_11e9_87d5_002590da1fa0row3_col0\" class=\"data row3 col0\" >0</td> \n",
       "        <td id=\"T_354a3aee_4fbb_11e9_87d5_002590da1fa0row3_col1\" class=\"data row3 col1\" >0</td> \n",
       "        <td id=\"T_354a3aee_4fbb_11e9_87d5_002590da1fa0row3_col2\" class=\"data row3 col2\" >0</td> \n",
       "        <td id=\"T_354a3aee_4fbb_11e9_87d5_002590da1fa0row3_col3\" class=\"data row3 col3\" >0</td> \n",
       "        <td id=\"T_354a3aee_4fbb_11e9_87d5_002590da1fa0row3_col4\" class=\"data row3 col4\" >0</td> \n",
       "        <td id=\"T_354a3aee_4fbb_11e9_87d5_002590da1fa0row3_col5\" class=\"data row3 col5\" >1</td> \n",
       "        <td id=\"T_354a3aee_4fbb_11e9_87d5_002590da1fa0row3_col6\" class=\"data row3 col6\" >0</td> \n",
       "        <td id=\"T_354a3aee_4fbb_11e9_87d5_002590da1fa0row3_col7\" class=\"data row3 col7\" >0</td> \n",
       "        <td id=\"T_354a3aee_4fbb_11e9_87d5_002590da1fa0row3_col8\" class=\"data row3 col8\" >0</td> \n",
       "        <td id=\"T_354a3aee_4fbb_11e9_87d5_002590da1fa0row3_col9\" class=\"data row3 col9\" >0</td> \n",
       "        <td id=\"T_354a3aee_4fbb_11e9_87d5_002590da1fa0row3_col10\" class=\"data row3 col10\" >1</td> \n",
       "        <td id=\"T_354a3aee_4fbb_11e9_87d5_002590da1fa0row3_col11\" class=\"data row3 col11\" >1</td> \n",
       "        <td id=\"T_354a3aee_4fbb_11e9_87d5_002590da1fa0row3_col12\" class=\"data row3 col12\" >0</td> \n",
       "        <td id=\"T_354a3aee_4fbb_11e9_87d5_002590da1fa0row3_col13\" class=\"data row3 col13\" >0</td> \n",
       "        <td id=\"T_354a3aee_4fbb_11e9_87d5_002590da1fa0row3_col14\" class=\"data row3 col14\" >0</td> \n",
       "        <td id=\"T_354a3aee_4fbb_11e9_87d5_002590da1fa0row3_col15\" class=\"data row3 col15\" >0</td> \n",
       "    </tr>    <tr> \n",
       "        <th id=\"T_354a3aee_4fbb_11e9_87d5_002590da1fa0level0_row4\" class=\"row_heading level0 row4\" >4</th> \n",
       "        <td id=\"T_354a3aee_4fbb_11e9_87d5_002590da1fa0row4_col0\" class=\"data row4 col0\" >1</td> \n",
       "        <td id=\"T_354a3aee_4fbb_11e9_87d5_002590da1fa0row4_col1\" class=\"data row4 col1\" >1</td> \n",
       "        <td id=\"T_354a3aee_4fbb_11e9_87d5_002590da1fa0row4_col2\" class=\"data row4 col2\" >1</td> \n",
       "        <td id=\"T_354a3aee_4fbb_11e9_87d5_002590da1fa0row4_col3\" class=\"data row4 col3\" >1</td> \n",
       "        <td id=\"T_354a3aee_4fbb_11e9_87d5_002590da1fa0row4_col4\" class=\"data row4 col4\" >1</td> \n",
       "        <td id=\"T_354a3aee_4fbb_11e9_87d5_002590da1fa0row4_col5\" class=\"data row4 col5\" >1</td> \n",
       "        <td id=\"T_354a3aee_4fbb_11e9_87d5_002590da1fa0row4_col6\" class=\"data row4 col6\" >1</td> \n",
       "        <td id=\"T_354a3aee_4fbb_11e9_87d5_002590da1fa0row4_col7\" class=\"data row4 col7\" >1</td> \n",
       "        <td id=\"T_354a3aee_4fbb_11e9_87d5_002590da1fa0row4_col8\" class=\"data row4 col8\" >1</td> \n",
       "        <td id=\"T_354a3aee_4fbb_11e9_87d5_002590da1fa0row4_col9\" class=\"data row4 col9\" >1</td> \n",
       "        <td id=\"T_354a3aee_4fbb_11e9_87d5_002590da1fa0row4_col10\" class=\"data row4 col10\" >0</td> \n",
       "        <td id=\"T_354a3aee_4fbb_11e9_87d5_002590da1fa0row4_col11\" class=\"data row4 col11\" >0</td> \n",
       "        <td id=\"T_354a3aee_4fbb_11e9_87d5_002590da1fa0row4_col12\" class=\"data row4 col12\" >1</td> \n",
       "        <td id=\"T_354a3aee_4fbb_11e9_87d5_002590da1fa0row4_col13\" class=\"data row4 col13\" >1</td> \n",
       "        <td id=\"T_354a3aee_4fbb_11e9_87d5_002590da1fa0row4_col14\" class=\"data row4 col14\" >1</td> \n",
       "        <td id=\"T_354a3aee_4fbb_11e9_87d5_002590da1fa0row4_col15\" class=\"data row4 col15\" >1</td> \n",
       "    </tr></tbody> \n",
       "</table> "
      ],
      "text/plain": [
       "<pandas.io.formats.style.Styler at 0x5adcc550>"
      ]
     },
     "execution_count": 10,
     "metadata": {},
     "output_type": "execute_result"
    }
   ],
   "source": [
    "# Будем отсекать по средней корелляции, за исключением артикулов, у которых нет данных\n",
    "threshold = corr_overal_df[corr_overal_df.sales > 0.1].mean()\n",
    "# Инициализация копии DF\n",
    "corr_thresh_df = corr_overal_df.copy()\n",
    "# Прогон сравнения по всем колонкам\n",
    "for col in corr_overal_df.columns:\n",
    "    corr_thresh_df[col] = (corr_overal_df[col] >= threshold[col]).astype(int)\n",
    "    \n",
    "corr_thresh_df.style.background_gradient(cmap='viridis')"
   ]
  },
  {
   "cell_type": "code",
   "execution_count": 11,
   "metadata": {},
   "outputs": [],
   "source": [
    "def get_cluster_id(material_id):\n",
    "    return corr_df.loc[material_id, 'clusters']"
   ]
  },
  {
   "cell_type": "markdown",
   "metadata": {},
   "source": [
    "Создаем DF для всех материалов для обучения нейронки"
   ]
  },
  {
   "cell_type": "code",
   "execution_count": 12,
   "metadata": {},
   "outputs": [],
   "source": [
    "train_data = full_train_data[df_columns_filter].merge(corr_df.clusters.to_frame(), how='left', left_on='material', right_index=True)"
   ]
  },
  {
   "cell_type": "markdown",
   "metadata": {},
   "source": [
    "Создаем тренировочные данные"
   ]
  },
  {
   "cell_type": "code",
   "execution_count": 13,
   "metadata": {},
   "outputs": [
    {
     "name": "stderr",
     "output_type": "stream",
     "text": [
      "c:\\python36\\lib\\site-packages\\sklearn\\preprocessing\\data.py:323: DataConversionWarning: Data with input dtype int32, int64, float64 were all converted to float64 by MinMaxScaler.\n",
      "  return self.partial_fit(X, y)\n"
     ]
    },
    {
     "name": "stdout",
     "output_type": "stream",
     "text": [
      "MinMaxScaler(copy=True, feature_range=(0, 1))\n"
     ]
    },
    {
     "name": "stderr",
     "output_type": "stream",
     "text": [
      "c:\\python36\\lib\\site-packages\\sklearn\\preprocessing\\data.py:323: DataConversionWarning: Data with input dtype int64 were all converted to float64 by MinMaxScaler.\n",
      "  return self.partial_fit(X, y)\n"
     ]
    },
    {
     "name": "stdout",
     "output_type": "stream",
     "text": [
      "MinMaxScaler(copy=True, feature_range=(0, 1))\n"
     ]
    }
   ],
   "source": [
    "X = train_data[[col for col in train_data.columns if col not in ['sales', 'material']]]\n",
    "\n",
    "Y = train_data.sales.to_frame()\n",
    "\n",
    "scaler = MinMaxScaler()\n",
    "\n",
    "print(scaler.fit(X))\n",
    "print(scaler.fit(Y))\n",
    "\n",
    "xscale=scaler.transform(X)\n",
    "yscale=scaler.transform(Y)\n",
    "\n",
    "X_train, X_test, y_train, y_test = train_test_split(xscale, yscale)"
   ]
  },
  {
   "cell_type": "code",
   "execution_count": 82,
   "metadata": {},
   "outputs": [
    {
     "name": "stdout",
     "output_type": "stream",
     "text": [
      "_________________________________________________________________\n",
      "Layer (type)                 Output Shape              Param #   \n",
      "=================================================================\n",
      "dense_37 (Dense)             (None, 32)                544       \n",
      "_________________________________________________________________\n",
      "dense_38 (Dense)             (None, 16)                528       \n",
      "_________________________________________________________________\n",
      "dense_39 (Dense)             (None, 1)                 17        \n",
      "=================================================================\n",
      "Total params: 1,089\n",
      "Trainable params: 1,089\n",
      "Non-trainable params: 0\n",
      "_________________________________________________________________\n"
     ]
    }
   ],
   "source": [
    "# 82.6%\n",
    "model = Sequential()\n",
    "model.add(Dense(32, input_dim=16, kernel_initializer='normal'))\n",
    "model.add(Dense(16))\n",
    "model.add(Dense(1))\n",
    "model.summary()"
   ]
  },
  {
   "cell_type": "code",
   "execution_count": 83,
   "metadata": {},
   "outputs": [],
   "source": [
    "model.compile(loss='mse', optimizer='adam', metrics=['mse','mae'])"
   ]
  },
  {
   "cell_type": "code",
   "execution_count": null,
   "metadata": {},
   "outputs": [
    {
     "name": "stdout",
     "output_type": "stream",
     "text": [
      "Train on 184590 samples, validate on 61530 samples\n",
      "Epoch 1/200\n",
      "184590/184590 [==============================] - 8s 42us/sample - loss: 6.2825 - mean_squared_error: 6.2824 - mean_absolute_error: 0.1467 - val_loss: 2.2323e-04 - val_mean_squared_error: 2.2324e-04 - val_mean_absolute_error: 0.0062\n",
      "Epoch 2/200\n",
      "184590/184590 [==============================] - 7s 39us/sample - loss: 1.3004 - mean_squared_error: 1.3003 - mean_absolute_error: 0.1227 - val_loss: 2.4416e-05 - val_mean_squared_error: 2.4416e-05 - val_mean_absolute_error: 0.0021\n",
      "Epoch 3/200\n",
      "184590/184590 [==============================] - 7s 40us/sample - loss: 0.3388 - mean_squared_error: 0.3388 - mean_absolute_error: 0.0773 - val_loss: 2.4429e-05 - val_mean_squared_error: 2.4429e-05 - val_mean_absolute_error: 0.0018\n",
      "Epoch 4/200\n",
      "184590/184590 [==============================] - 7s 40us/sample - loss: 0.3428 - mean_squared_error: 0.3428 - mean_absolute_error: 0.0317 - val_loss: 2.3696e-05 - val_mean_squared_error: 2.3696e-05 - val_mean_absolute_error: 0.0022\n",
      "Epoch 5/200\n",
      "184590/184590 [==============================] - 8s 42us/sample - loss: 0.1372 - mean_squared_error: 0.1372 - mean_absolute_error: 0.0297 - val_loss: 4.2426e-05 - val_mean_squared_error: 4.2426e-05 - val_mean_absolute_error: 0.0025\n",
      "Epoch 6/200\n",
      "184590/184590 [==============================] - 8s 42us/sample - loss: 0.0111 - mean_squared_error: 0.0111 - mean_absolute_error: 0.0107 - val_loss: 4.5832e-05 - val_mean_squared_error: 4.5832e-05 - val_mean_absolute_error: 0.0027\n",
      "Epoch 7/200\n",
      "184590/184590 [==============================] - 7s 40us/sample - loss: 0.0108 - mean_squared_error: 0.0108 - mean_absolute_error: 0.0119 - val_loss: 7.2824e-05 - val_mean_squared_error: 7.2824e-05 - val_mean_absolute_error: 0.0036\n",
      "Epoch 8/200\n",
      "184590/184590 [==============================] - 8s 41us/sample - loss: 0.0455 - mean_squared_error: 0.0455 - mean_absolute_error: 0.0163 - val_loss: 1.0746e-04 - val_mean_squared_error: 1.0746e-04 - val_mean_absolute_error: 0.0043\n",
      "Epoch 9/200\n",
      "184590/184590 [==============================] - 8s 41us/sample - loss: 3.7576e-04 - mean_squared_error: 3.7576e-04 - mean_absolute_error: 0.0046 - val_loss: 8.3405e-05 - val_mean_squared_error: 8.3405e-05 - val_mean_absolute_error: 0.0042\n",
      "Epoch 10/200\n",
      "184590/184590 [==============================] - 8s 46us/sample - loss: 9.0336e-05 - mean_squared_error: 9.0336e-05 - mean_absolute_error: 0.0036 - val_loss: 1.7051e-04 - val_mean_squared_error: 1.7051e-04 - val_mean_absolute_error: 0.0075\n",
      "Epoch 11/200\n",
      "184590/184590 [==============================] - 7s 40us/sample - loss: 0.0297 - mean_squared_error: 0.0297 - mean_absolute_error: 0.0130 - val_loss: 5.7521e-05 - val_mean_squared_error: 5.7521e-05 - val_mean_absolute_error: 0.0030\n",
      "Epoch 12/200\n",
      "184590/184590 [==============================] - 7s 40us/sample - loss: 6.8896e-05 - mean_squared_error: 6.8896e-05 - mean_absolute_error: 0.0030 - val_loss: 4.8301e-05 - val_mean_squared_error: 4.8300e-05 - val_mean_absolute_error: 0.0030\n",
      "Epoch 13/200\n",
      "184590/184590 [==============================] - 9s 46us/sample - loss: 0.0067 - mean_squared_error: 0.0067 - mean_absolute_error: 0.0064 - val_loss: 2.5365e-04 - val_mean_squared_error: 2.5365e-04 - val_mean_absolute_error: 0.0078\n",
      "Epoch 14/200\n",
      "184590/184590 [==============================] - 8s 45us/sample - loss: 1.0668e-04 - mean_squared_error: 1.0668e-04 - mean_absolute_error: 0.0039 - val_loss: 1.8332e-04 - val_mean_squared_error: 1.8332e-04 - val_mean_absolute_error: 0.0060\n",
      "Epoch 15/200\n",
      "184590/184590 [==============================] - 7s 40us/sample - loss: 0.0030 - mean_squared_error: 0.0030 - mean_absolute_error: 0.0064 - val_loss: 5.8397e-05 - val_mean_squared_error: 5.8397e-05 - val_mean_absolute_error: 0.0031\n",
      "Epoch 16/200\n",
      "184590/184590 [==============================] - 7s 40us/sample - loss: 3.4979e-05 - mean_squared_error: 3.4980e-05 - mean_absolute_error: 0.0022 - val_loss: 8.8690e-06 - val_mean_squared_error: 8.8690e-06 - val_mean_absolute_error: 0.0017\n",
      "Epoch 17/200\n",
      "184590/184590 [==============================] - 15s 79us/sample - loss: 2.5063e-04 - mean_squared_error: 2.5063e-04 - mean_absolute_error: 0.0040 - val_loss: 8.4669e-06 - val_mean_squared_error: 8.4669e-06 - val_mean_absolute_error: 0.0014\n",
      "Epoch 18/200\n",
      "184590/184590 [==============================] - 15s 83us/sample - loss: 9.1430e-04 - mean_squared_error: 9.1430e-04 - mean_absolute_error: 0.0038 - val_loss: 2.6076e-05 - val_mean_squared_error: 2.6076e-05 - val_mean_absolute_error: 0.0027\n",
      "Epoch 19/200\n",
      "184590/184590 [==============================] - 15s 80us/sample - loss: 0.0057 - mean_squared_error: 0.0057 - mean_absolute_error: 0.0068 - val_loss: 8.0773e-06 - val_mean_squared_error: 8.0773e-06 - val_mean_absolute_error: 0.0013\n",
      "Epoch 20/200\n",
      "184590/184590 [==============================] - 15s 82us/sample - loss: 3.7520e-05 - mean_squared_error: 3.7520e-05 - mean_absolute_error: 0.0017 - val_loss: 1.8514e-06 - val_mean_squared_error: 1.8514e-06 - val_mean_absolute_error: 6.6094e-04\n",
      "Epoch 21/200\n",
      "184590/184590 [==============================] - 15s 80us/sample - loss: 2.8927e-04 - mean_squared_error: 2.8927e-04 - mean_absolute_error: 0.0033 - val_loss: 9.9446e-04 - val_mean_squared_error: 9.9446e-04 - val_mean_absolute_error: 0.0134\n",
      "Epoch 22/200\n",
      "184590/184590 [==============================] - 14s 77us/sample - loss: 0.0013 - mean_squared_error: 0.0013 - mean_absolute_error: 0.0037 - val_loss: 3.0640e-06 - val_mean_squared_error: 3.0640e-06 - val_mean_absolute_error: 0.0011\n",
      "Epoch 23/200\n",
      "184590/184590 [==============================] - 15s 80us/sample - loss: 6.7717e-04 - mean_squared_error: 6.7717e-04 - mean_absolute_error: 0.0043 - val_loss: 2.7051e-06 - val_mean_squared_error: 2.7051e-06 - val_mean_absolute_error: 0.0010\n",
      "Epoch 24/200\n",
      "184590/184590 [==============================] - 15s 81us/sample - loss: 2.0695e-04 - mean_squared_error: 2.0695e-04 - mean_absolute_error: 0.0027 - val_loss: 1.0338e-04 - val_mean_squared_error: 1.0338e-04 - val_mean_absolute_error: 0.0042\n",
      "Epoch 25/200\n",
      "184590/184590 [==============================] - 15s 80us/sample - loss: 7.1533e-05 - mean_squared_error: 7.1533e-05 - mean_absolute_error: 0.0027 - val_loss: 5.2694e-05 - val_mean_squared_error: 5.2694e-05 - val_mean_absolute_error: 0.0031\n",
      "Epoch 45/200\n",
      "184590/184590 [==============================] - 16s 85us/sample - loss: 3.8295e-05 - mean_squared_error: 3.8295e-05 - mean_absolute_error: 0.0019 - val_loss: 3.1292e-06 - val_mean_squared_error: 3.1292e-06 - val_mean_absolute_error: 7.8158e-04\n",
      "Epoch 55/200\n",
      "184590/184590 [==============================] - 16s 86us/sample - loss: 7.5410e-05 - mean_squared_error: 7.5410e-05 - mean_absolute_error: 0.0027 - val_loss: 0.0012 - val_mean_squared_error: 0.0012 - val_mean_absolute_error: 0.0148\n",
      "Epoch 64/200\n",
      "184590/184590 [==============================] - 15s 84us/sample - loss: 7.3545e-05 - mean_squared_error: 7.3545e-05 - mean_absolute_error: 0.0018 - val_loss: 1.2558e-05 - val_mean_squared_error: 1.2558e-05 - val_mean_absolute_error: 0.0016\n",
      "Epoch 71/200\n",
      "184590/184590 [==============================] - 16s 85us/sample - loss: 4.2649e-05 - mean_squared_error: 4.2649e-05 - mean_absolute_error: 0.0019 - val_loss: 3.2614e-07 - val_mean_squared_error: 3.2614e-07 - val_mean_absolute_error: 2.6934e-04\n",
      "Epoch 80/200\n",
      "184590/184590 [==============================] - 16s 84us/sample - loss: 2.9814e-05 - mean_squared_error: 2.9814e-05 - mean_absolute_error: 0.0015 - val_loss: 3.2195e-06 - val_mean_squared_error: 3.2195e-06 - val_mean_absolute_error: 9.4231e-04\n",
      "Epoch 86/200\n",
      "184590/184590 [==============================] - 16s 85us/sample - loss: 2.6554e-05 - mean_squared_error: 2.6554e-05 - mean_absolute_error: 0.0015 - val_loss: 2.1466e-05 - val_mean_squared_error: 2.1466e-05 - val_mean_absolute_error: 0.0019\n",
      "Epoch 87/200\n",
      "184590/184590 [==============================] - 15s 82us/sample - loss: 2.3083e-05 - mean_squared_error: 2.3083e-05 - mean_absolute_error: 0.0014 - val_loss: 1.3991e-06 - val_mean_squared_error: 1.3991e-06 - val_mean_absolute_error: 7.5307e-04\n",
      "Epoch 96/200\n",
      "184590/184590 [==============================] - 7s 39us/sample - loss: 2.3011e-05 - mean_squared_error: 2.3011e-05 - mean_absolute_error: 0.0012 - val_loss: 5.2171e-07 - val_mean_squared_error: 5.2171e-07 - val_mean_absolute_error: 4.6811e-04\n",
      "Epoch 106/200\n",
      "184590/184590 [==============================] - 7s 40us/sample - loss: 1.6513e-05 - mean_squared_error: 1.6513e-05 - mean_absolute_error: 0.0011 - val_loss: 1.5262e-04 - val_mean_squared_error: 1.5262e-04 - val_mean_absolute_error: 0.0069\n",
      "Epoch 107/200\n",
      "184590/184590 [==============================] - 7s 39us/sample - loss: 4.4509e-05 - mean_squared_error: 4.4509e-05 - mean_absolute_error: 0.0012 - val_loss: 6.1103e-08 - val_mean_squared_error: 6.1103e-08 - val_mean_absolute_error: 1.0364e-04\n",
      "Epoch 108/200\n",
      "184590/184590 [==============================] - 7s 39us/sample - loss: 4.1300e-05 - mean_squared_error: 4.1300e-05 - mean_absolute_error: 0.0015 - val_loss: 2.1836e-06 - val_mean_squared_error: 2.1836e-06 - val_mean_absolute_error: 6.0747e-04\n",
      "Epoch 109/200\n",
      "184590/184590 [==============================] - 7s 39us/sample - loss: 1.2303e-05 - mean_squared_error: 1.2303e-05 - mean_absolute_error: 0.0010 - val_loss: 1.2094e-04 - val_mean_squared_error: 1.2094e-04 - val_mean_absolute_error: 0.0039\n",
      "Epoch 110/200\n",
      "184590/184590 [==============================] - 7s 39us/sample - loss: 3.5904e-05 - mean_squared_error: 3.5904e-05 - mean_absolute_error: 0.0015 - val_loss: 5.9419e-07 - val_mean_squared_error: 5.9419e-07 - val_mean_absolute_error: 3.4718e-04\n",
      "Epoch 111/200\n",
      "184590/184590 [==============================] - 12s 64us/sample - loss: 1.4505e-04 - mean_squared_error: 1.4505e-04 - mean_absolute_error: 0.0019 - val_loss: 7.1571e-07 - val_mean_squared_error: 7.1571e-07 - val_mean_absolute_error: 3.8877e-04\n",
      "Epoch 123/200\n",
      "184590/184590 [==============================] - 15s 83us/sample - loss: 1.4586e-05 - mean_squared_error: 1.4586e-05 - mean_absolute_error: 7.1193e-04 - val_loss: 3.7074e-08 - val_mean_squared_error: 3.7074e-08 - val_mean_absolute_error: 9.7254e-05\n",
      "Epoch 138/200\n",
      "184590/184590 [==============================] - 15s 82us/sample - loss: 3.6302e-05 - mean_squared_error: 3.6302e-05 - mean_absolute_error: 0.0013 - val_loss: 7.3768e-07 - val_mean_squared_error: 7.3768e-07 - val_mean_absolute_error: 4.4083e-04\n",
      "Epoch 147/200\n",
      "184590/184590 [==============================] - 16s 84us/sample - loss: 1.4166e-05 - mean_squared_error: 1.4166e-05 - mean_absolute_error: 7.8355e-04 - val_loss: 1.3639e-08 - val_mean_squared_error: 1.3639e-08 - val_mean_absolute_error: 5.7697e-05\n",
      "Epoch 154/200\n",
      "184590/184590 [==============================] - 15s 83us/sample - loss: 4.4174e-05 - mean_squared_error: 4.4174e-05 - mean_absolute_error: 9.3607e-04 - val_loss: 1.3653e-08 - val_mean_squared_error: 1.3653e-08 - val_mean_absolute_error: 4.5628e-05\n",
      "Epoch 162/200\n",
      "184590/184590 [==============================] - 7s 36us/sample - loss: 8.8810e-06 - mean_squared_error: 8.8810e-06 - mean_absolute_error: 6.6605e-04 - val_loss: 1.4164e-08 - val_mean_squared_error: 1.4164e-08 - val_mean_absolute_error: 5.6775e-05\n",
      "Epoch 175/200\n",
      "184590/184590 [==============================] - 7s 39us/sample - loss: 1.6659e-05 - mean_squared_error: 1.6659e-05 - mean_absolute_error: 8.0958e-04 - val_loss: 1.2392e-08 - val_mean_squared_error: 1.2392e-08 - val_mean_absolute_error: 5.9218e-05\n",
      "Epoch 176/200\n",
      "184590/184590 [==============================] - 7s 35us/sample - loss: 1.2252e-05 - mean_squared_error: 1.2252e-05 - mean_absolute_error: 6.5774e-04 - val_loss: 6.4413e-06 - val_mean_squared_error: 6.4413e-06 - val_mean_absolute_error: 9.8239e-04\n",
      "Epoch 177/200\n",
      "184590/184590 [==============================] - 15s 81us/sample - loss: 1.1710e-05 - mean_squared_error: 1.1710e-05 - mean_absolute_error: 8.3969e-04 - val_loss: 1.1760e-07 - val_mean_squared_error: 1.1760e-07 - val_mean_absolute_error: 1.6371e-04\n",
      "Epoch 188/200\n",
      "163350/184590 [=========================>....] - ETA: 1s - loss: 5.0577e-05 - mean_squared_error: 5.0577e-05 - mean_absolute_error: 7.9358e-"
     ]
    }
   ],
   "source": [
    "history = model.fit(X_train, y_train, epochs=200, batch_size=50, validation_data=(X_test, y_test), shuffle=True, verbose=1)"
   ]
  },
  {
   "cell_type": "code",
   "execution_count": 85,
   "metadata": {},
   "outputs": [
    {
     "data": {
      "image/png": "[encoded data removed]",
      "text/plain": [
       "<Figure size 432x288 with 1 Axes>"
      ]
     },
     "metadata": {
      "needs_background": "light"
     },
     "output_type": "display_data"
    }
   ],
   "source": [
    "plt.figure()\n",
    "plt.plot(history.history['loss'])\n",
    "plt.plot(history.history['val_loss'])\n",
    "plt.title('model loss')\n",
    "plt.ylabel('loss')\n",
    "plt.xlabel('epoch')\n",
    "plt.legend(['train', 'test'], loc='best')\n",
    "plt.show()"
   ]
  },
  {
   "cell_type": "code",
   "execution_count": 86,
   "metadata": {},
   "outputs": [
    {
     "name": "stdout",
     "output_type": "stream",
     "text": []
    },
    {
     "name": "stdout",
     "output_type": "stream",
     "text": [
      "61530/61530 [==============================] - 3s 52us/sample - loss: 3.9425e-06 - mean_squared_error: 3.9425e-06 - mean_absolute_error: 8.0855e-04\n"
     ]
    },
    {
     "data": {
      "text/plain": [
       "[3.942458550267514e-06, 3.9424594e-06, 0.00080855197]"
      ]
     },
     "execution_count": 86,
     "metadata": {},
     "output_type": "execute_result"
    }
   ],
   "source": [
    "model.evaluate(X_test, y_test)"
   ]
  },
  {
   "cell_type": "code",
   "execution_count": 87,
   "metadata": {},
   "outputs": [
    {
     "name": "stdout",
     "output_type": "stream",
     "text": [
      "Total accuracy = 79.41%\n"
     ]
    }
   ],
   "source": [
    "prediction = model.predict(X_test)\n",
    "\n",
    "accuracy = 1 - sum(abs(scaler.inverse_transform(prediction) - scaler.inverse_transform(y_test))) / sum(scaler.inverse_transform(y_test))\n",
    "\n",
    "print('Total accuracy = %.2f%%' % (accuracy * 100))"
   ]
  }
 ],
 "metadata": {
  "kernelspec": {
   "display_name": "Python 3",
   "language": "python",
   "name": "python3"
  },
  "language_info": {
   "codemirror_mode": {
    "name": "ipython",
    "version": 3
   },
   "file_extension": ".py",
   "mimetype": "text/x-python",
   "name": "python",
   "nbconvert_exporter": "python",
   "pygments_lexer": "ipython3",
   "version": "3.6.2"
  }
 },
 "nbformat": 4,
 "nbformat_minor": 2
}
